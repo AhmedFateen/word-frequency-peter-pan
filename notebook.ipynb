{
  "cells": [
    {
      "metadata": {
        "dc": {
          "key": "3"
        },
        "deletable": false,
        "editable": false,
        "run_control": {
          "frozen": true
        },
        "tags": [
          "context"
        ],
        "id": "lQ-W0xdhU2z7"
      },
      "cell_type": "markdown",
      "source": [
        "## # Introduction\n",
        "<p><img src=\"https://assets.datacamp.com/production/project_1010/img/book_cover.jpg\" alt=\"The book cover of Peter and Wendy\" style=\"width:183;height:253px;\"></p>\n",
        "<h3 id=\"flyawaywithpeterpan\">Fly away with Peter Pan!</h3>\n",
        "<p>Peter Pan has been the companion of many children, and went a long way, starting as a Christmas play and ending up as a Disney classic. Did you know that although the play was titled \"Peter Pan, Or The Boy Who Wouldn't Grow Up\", J. M. Barrie's novel was actually titled \"Peter and Wendy\"? </p>\n",
        "<p>You're going to explore and analyze Peter Pan's text to answer the question in the instruction pane below. You are working with the text version available here at <a href=\"https://www.gutenberg.org/files/16/16-h/16-h.htm\">Project Gutenberg</a>. Feel free to add as many cells as necessary. Finally, remember that you are only tested on your answer, not on the methods you use to arrive at the answer!</p>"
      ]
    },
    {
      "metadata": {
        "dc": {
          "key": "3"
        },
        "tags": [
          "sample_code"
        ],
        "trusted": true,
        "collapsed": true,
        "colab": {
          "base_uri": "https://localhost:8080/"
        },
        "id": "XN_pZyytU2z-",
        "outputId": "3cca0404-5dc5-4544-f5c9-884bcba4d595"
      },
      "cell_type": "code",
      "source": [
        "import requests\n",
        "from bs4 import BeautifulSoup\n",
        "import nltk\n",
        "nltk.download('stopwords')\n",
        "from collections import Counter"
      ],
      "execution_count": 17,
      "outputs": [
        {
          "output_type": "stream",
          "name": "stdout",
          "text": [
            "[nltk_data] Downloading package stopwords to /root/nltk_data...\n",
            "[nltk_data]   Package stopwords is already up-to-date!\n"
          ]
        }
      ]
    },
    {
      "metadata": {
        "dc": {
          "key": "3"
        },
        "trusted": true,
        "colab": {
          "base_uri": "https://localhost:8080/"
        },
        "id": "oVrBq1eUU2z_",
        "outputId": "190fa057-70d2-472b-c987-524a60a1911c"
      },
      "cell_type": "code",
      "source": [
        "r = requests.get('https://www.gutenberg.org/files/16/16-h/16-h.htm')\n",
        "\n",
        "r.encoding = 'utf-8'\n",
        "\n",
        "html = r.text\n",
        "\n",
        "print(html[0:2000])"
      ],
      "execution_count": 18,
      "outputs": [
        {
          "output_type": "stream",
          "name": "stdout",
          "text": [
            "<!DOCTYPE html PUBLIC \"-//W3C//DTD XHTML 1.0 Strict//EN\"\r\n",
            "\"http://www.w3.org/TR/xhtml1/DTD/xhtml1-strict.dtd\">\r\n",
            "<html xmlns=\"http://www.w3.org/1999/xhtml\" xml:lang=\"en\" lang=\"en\">\r\n",
            "<head>\r\n",
            "<meta http-equiv=\"Content-Type\" content=\"text/html;charset=utf-8\" />\r\n",
            "<meta http-equiv=\"Content-Style-Type\" content=\"text/css\" />\r\n",
            "<title>The Project Gutenberg eBook of Peter Pan, by James M. Barrie</title>\r\n",
            "\r\n",
            "<style type=\"text/css\">\r\n",
            "\r\n",
            "body { margin-left: 20%;\r\n",
            "       margin-right: 20%;\r\n",
            "       text-align: justify; }\r\n",
            "\r\n",
            "h1, h2, h3, h4, h5 {text-align: center; font-style: normal; font-weight:\r\n",
            "normal; line-height: 1.5; margin-top: .5em; margin-bottom: .5em;}\r\n",
            "\r\n",
            "h1 {font-size: 300%;\r\n",
            "    margin-top: 0.6em;\r\n",
            "    margin-bottom: 0.6em;\r\n",
            "    letter-spacing: 0.12em;\r\n",
            "    word-spacing: 0.2em;\r\n",
            "    text-indent: 0em;}\r\n",
            "h2 {font-size: 150%; margin-top: 2em; margin-bottom: 1em;}\r\n",
            "h3 {font-size: 130%; margin-top: 1em;}\r\n",
            "h4 {font-size: 120%;}\r\n",
            "h5 {font-size: 110%;}\r\n",
            "\r\n",
            ".no-break {page-break-before: avoid;} /* for epubs */\r\n",
            "\r\n",
            "div.chapter {page-break-before: always; margin-top: 4em;}\r\n",
            "\r\n",
            "hr {width: 80%; margin-top: 2em; margin-bottom: 2em;}\r\n",
            "\r\n",
            "p {text-indent: 1em;\r\n",
            "   margin-top: 0.25em;\r\n",
            "   margin-bottom: 0.25em; }\r\n",
            "\r\n",
            "p.poem {text-indent: 0%;\r\n",
            "        margin-left: 10%;\r\n",
            "        font-size: 90%;\r\n",
            "        margin-top: 1em;\r\n",
            "        margin-bottom: 1em; }\r\n",
            "\r\n",
            "p.letter {text-indent: 0%;\r\n",
            "          margin-left: 10%;\r\n",
            "          margin-right: 10%;\r\n",
            "          margin-top: 1em;\r\n",
            "          margin-bottom: 1em; }\r\n",
            "\r\n",
            "p.center  {text-align: center;\r\n",
            "           text-indent: 0em;\r\n",
            "           margin-top: 1em;\r\n",
            "           margin-bottom: 1em; }\r\n",
            "\r\n",
            "a:link {color:blue; text-decoration:none}\r\n",
            "a:visited {color:blue; text-decoration:none}\r\n",
            "a:hover {color:red}\r\n",
            "\r\n",
            "</style>\r\n",
            "\r\n",
            "</head>\r\n",
            "\r\n",
            "<body>\r\n",
            "\r\n",
            "<div style='text-align:center; font-size:1.2em; font-weight:bold;'>The Project Gutenberg eBook of Peter Pan, by James M. Barrie</div>\r\n",
            "<div style='display:block; margin:1em 0'>\r\n",
            "This eBook is for the use of anyone anywhere in the Unit\n"
          ]
        }
      ]
    },
    {
      "metadata": {
        "dc": {
          "key": "3"
        },
        "trusted": true,
        "colab": {
          "base_uri": "https://localhost:8080/"
        },
        "id": "kIUkOxOeU20A",
        "outputId": "ba272dc9-ad72-40ad-a14f-652d74f567a0"
      },
      "cell_type": "code",
      "source": [
        "soup = BeautifulSoup(html)\n",
        "\n",
        "text = soup.text\n",
        "\n",
        "print(text[32000:34000])"
      ],
      "execution_count": 19,
      "outputs": [
        {
          "output_type": "stream",
          "name": "stdout",
          "text": [
            " put a little\r\n",
            "milk into your bowl, Nana.”\r\n",
            "\n",
            "\r\n",
            "Nana wagged her tail, ran to the medicine, and began lapping it. Then she gave\r\n",
            "Mr. Darling such a look, not an angry look: she showed him the great red tear\r\n",
            "that makes us so sorry for noble dogs, and crept into her kennel.\r\n",
            "\n",
            "\r\n",
            "Mr. Darling was frightfully ashamed of himself, but he would not give in. In a\r\n",
            "horrid silence Mrs. Darling smelt the bowl. “O George,” she said,\r\n",
            "“it’s your medicine!”\r\n",
            "\n",
            "\r\n",
            "“It was only a joke,” he roared, while she comforted her boys, and\r\n",
            "Wendy hugged Nana. “Much good,” he said bitterly, “my wearing\r\n",
            "myself to the bone trying to be funny in this house.”\r\n",
            "\n",
            "\r\n",
            "And still Wendy hugged Nana. “That’s right,” he shouted.\r\n",
            "“Coddle her! Nobody coddles me. Oh dear no! I am only the breadwinner,\r\n",
            "why should I be coddled—why, why, why!”\r\n",
            "\n",
            "\r\n",
            "“George,” Mrs. Darling entreated him, “not so loud; the\r\n",
            "servants will hear you.” Somehow they had got into the way of calling\r\n",
            "Liza the servants.\r\n",
            "\n",
            "\r\n",
            "“Let them!” he answered recklessly. “Bring in the whole\r\n",
            "world. But I refuse to allow that dog to lord it in my nursery for an hour\r\n",
            "longer.”\r\n",
            "\n",
            "\r\n",
            "The children wept, and Nana ran to him beseechingly, but he waved her back. He\r\n",
            "felt he was a strong man again. “In vain, in vain,” he cried;\r\n",
            "“the proper place for you is the yard, and there you go to be tied up\r\n",
            "this instant.”\r\n",
            "\n",
            "\r\n",
            "“George, George,” Mrs. Darling whispered, “remember what I\r\n",
            "told you about that boy.”\r\n",
            "\n",
            "\r\n",
            "Alas, he would not listen. He was determined to show who was master in that\r\n",
            "house, and when commands would not draw Nana from the kennel, he lured her out\r\n",
            "of it with honeyed words, and seizing her roughly, dragged her from the\r\n",
            "nursery. He was ashamed of himself, and yet he did it. It was all owing to his\r\n",
            "too affectionate nature, which craved for admiration. When he had tied her up\r\n",
            "in the back-yard, the wretched father went and sat in the passage, with his\r\n",
            "knuckles to his eyes.\r\n",
            "\n",
            "\r\n",
            "In the meantime Mrs. Darling had put the children to bed in unwonted silence\n"
          ]
        }
      ]
    },
    {
      "metadata": {
        "dc": {
          "key": "3"
        },
        "trusted": true,
        "colab": {
          "base_uri": "https://localhost:8080/"
        },
        "id": "I7bBWU8mU20A",
        "outputId": "f9f0e690-ac91-4bd1-d2e1-7f8b72fc5b6a"
      },
      "cell_type": "code",
      "source": [
        "tokenizer = nltk.tokenize.RegexpTokenizer('\\w+')\n",
        "\n",
        "tokens = tokenizer.tokenize(text)\n",
        "\n",
        "print(tokens[0:8])"
      ],
      "execution_count": 20,
      "outputs": [
        {
          "output_type": "stream",
          "name": "stdout",
          "text": [
            "['The', 'Project', 'Gutenberg', 'eBook', 'of', 'Peter', 'Pan', 'by']\n"
          ]
        }
      ]
    },
    {
      "cell_type": "code",
      "source": [
        "words=[word.lower() for word in tokens]"
      ],
      "metadata": {
        "id": "AMYlsSy_WK5z"
      },
      "execution_count": 21,
      "outputs": []
    },
    {
      "metadata": {
        "dc": {
          "key": "3"
        },
        "trusted": true,
        "colab": {
          "base_uri": "https://localhost:8080/"
        },
        "id": "CWY2nnXEU20A",
        "outputId": "5e4b58a3-e5ae-46cc-9f76-6c8b7185bc03"
      },
      "cell_type": "code",
      "source": [
        "sw = nltk.corpus.stopwords.words('english')\n",
        "\n",
        "print(sw[0:8])"
      ],
      "execution_count": 22,
      "outputs": [
        {
          "output_type": "stream",
          "name": "stdout",
          "text": [
            "['i', 'me', 'my', 'myself', 'we', 'our', 'ours', 'ourselves']\n"
          ]
        }
      ]
    },
    {
      "metadata": {
        "dc": {
          "key": "3"
        },
        "trusted": true,
        "colab": {
          "base_uri": "https://localhost:8080/"
        },
        "id": "P2lwpFrGU20B",
        "outputId": "730e17af-ab9c-47b3-9f55-e60a5a69a2cd"
      },
      "cell_type": "code",
      "source": [
        "words_ns=[word for word in words if word not in sw]\n",
        "words_ns[0:7]"
      ],
      "execution_count": 23,
      "outputs": [
        {
          "output_type": "execute_result",
          "data": {
            "text/plain": [
              "['project', 'gutenberg', 'ebook', 'peter', 'pan', 'james', 'barrie']"
            ]
          },
          "metadata": {},
          "execution_count": 23
        }
      ]
    },
    {
      "metadata": {
        "dc": {
          "key": "3"
        },
        "trusted": true,
        "colab": {
          "base_uri": "https://localhost:8080/"
        },
        "id": "XWQGHurSU20B",
        "outputId": "df342a8e-f166-4bac-833e-3d2a4bb3bca4"
      },
      "cell_type": "code",
      "source": [
        "count = Counter(words_ns)\n",
        "\n",
        "top_ten = count.most_common(10)\n",
        "\n",
        "print(top_ten)"
      ],
      "execution_count": 24,
      "outputs": [
        {
          "output_type": "stream",
          "name": "stdout",
          "text": [
            "[('peter', 409), ('wendy', 362), ('said', 358), ('would', 217), ('one', 212), ('hook', 174), ('could', 142), ('cried', 136), ('john', 133), ('time', 126)]\n"
          ]
        }
      ]
    },
    {
      "metadata": {
        "dc": {
          "key": "3"
        },
        "trusted": true,
        "collapsed": true,
        "id": "d3csk8GzU20C"
      },
      "cell_type": "code",
      "source": [
        "protagonists=[\"Peter\", \"Wendy\", \"Hook\"]"
      ],
      "execution_count": 25,
      "outputs": []
    }
  ],
  "metadata": {
    "kernelspec": {
      "name": "python3",
      "display_name": "Python 3",
      "language": "python"
    },
    "language_info": {
      "name": "python",
      "version": "3.6.7",
      "mimetype": "text/x-python",
      "codemirror_mode": {
        "name": "ipython",
        "version": 3
      },
      "pygments_lexer": "ipython3",
      "nbconvert_exporter": "python",
      "file_extension": ".py"
    },
    "colab": {
      "name": "notebook.ipynb",
      "provenance": []
    }
  },
  "nbformat": 4,
  "nbformat_minor": 0
}